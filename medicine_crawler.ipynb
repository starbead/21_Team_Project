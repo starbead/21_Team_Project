{
  "nbformat": 4,
  "nbformat_minor": 0,
  "metadata": {
    "colab": {
      "name": "medicine_crawler.ipynb",
      "provenance": [],
      "authorship_tag": "ABX9TyPxCqJjcIygxI+i9qHlKwgx",
      "include_colab_link": true
    },
    "kernelspec": {
      "name": "python3",
      "display_name": "Python 3"
    },
    "language_info": {
      "name": "python"
    }
  },
  "cells": [
    {
      "cell_type": "markdown",
      "metadata": {
        "id": "view-in-github",
        "colab_type": "text"
      },
      "source": [
        "<a href=\"https://colab.research.google.com/github/Coreight98/21_Team_Project/blob/main/medicine_crawler.ipynb\" target=\"_parent\"><img src=\"https://colab.research.google.com/assets/colab-badge.svg\" alt=\"Open In Colab\"/></a>"
      ]
    },
    {
      "cell_type": "code",
      "metadata": {
        "id": "IjHISknGKG39"
      },
      "source": [
        "from selenium import webdriver\n",
        "from selenium.webdriver.common.keys import Keys\n",
        "import time\n",
        "from bs4 import BeautifulSoup\n",
        "from urllib.request import urlopen\n",
        "import urllib.request\n",
        "import os\n",
        "\n",
        "\n",
        "response = ('https://nedrug.mfds.go.kr/searchDrug?sort=&sortOrder=false&searchYn=&page=1&searchDivision=detail&itemName=&entpName=&ingrName1=&ingrName2=&ingrName3=&itemSeq=&stdrCodeName=&atcCodeName=&indutyClassCode=A0&sClassNo=&narcoticKindCode=&cancelCode=0&etcOtcCode=01&makeMaterialGb=01&searchConEe=AND&eeDocData=&searchConUd=AND&udDocData=&searchConNb=AND&nbDocData=&startPermitDate=&endPermitDate=')\n",
        "driver = webdriver.Chrome()\n",
        "driver.get(response)\n",
        "page_count = 1\n",
        "while True:\n",
        "    try:\n",
        "        for _ in range(1, len(driver.find_element_by_xpath(\n",
        "                '//*[@id=\"con_body\"]/div[2]/div[3]/div[3]/table/tbody').find_elements_by_tag_name('tr')) + 1):\n",
        "            dict = {}\n",
        "            temp_url = '// *[ @ id = \"con_body\"] / div[2] / div[3] / div[3] / table / tbody / tr[' + str(\n",
        "                _) + '] / td[2] / span[2] / a'\n",
        "            print(str(page_count) + '페이지', str(_) + '번호')\n",
        "            class_2 = webdriver.Chrome()\n",
        "            class_2.get(driver.find_element_by_xpath(temp_url).get_attribute('href'))\n",
        "            dict[class_2.find_element_by_xpath(\n",
        "                '//*[@id=\"content\"]/section/div[1]/div[2]/table/tbody/tr[1]/th').text] = class_2.find_element_by_xpath(\n",
        "                '//*[@id=\"content\"]/section/div[1]/div[2]/table/tbody/tr[1]/td/span').text\n",
        "            dict[class_2.find_element_by_xpath('//*[@id=\"scroll_02\"]/div[1]/h3').text] = [\n",
        "                class_2.find_element_by_xpath('//*[@id=\"scroll_02\"]/h3[1]').text,\n",
        "                class_2.find_element_by_xpath('//*[@id=\"scroll_02\"]/div[2]/p').text]\n",
        "            dict['효능효과'] = class_2.find_element_by_xpath('//*[@id=\"_ee_doc\"]/p').text\n",
        "            dict['용법용량'] = class_2.find_element_by_xpath('//*[@id=\"_ud_doc\"]/p').text\n",
        "            print(dict)\n",
        "            class_2.close()\n",
        "        time.sleep(2)\n",
        "        driver.find_element_by_xpath('//*[@id=\"paging_div\"]/p/button[3]').click()\n",
        "    except:\n",
        "        break\n",
        "    page_count+=1\n",
        "        # // *[ @ id = \"con_body\"] / div[2] / div[3] / div[3] / table / tbody / tr[1] / td[2] / span[2] / a\n",
        "        #\n",
        "        # // *[ @ id = \"con_body\"] / div[2] / div[3] / div[3] / table / tbody / tr[2] / td[2] / span[2] / a"
      ],
      "execution_count": null,
      "outputs": []
    }
  ]
}